{
  "nbformat": 4,
  "nbformat_minor": 0,
  "metadata": {
    "colab": {
      "provenance": []
    },
    "kernelspec": {
      "name": "python3",
      "display_name": "Python 3"
    },
    "language_info": {
      "name": "python"
    }
  },
  "cells": [
    {
      "cell_type": "markdown",
      "source": [
        "# Google Play"
      ],
      "metadata": {
        "id": "uEIc6u-F15iR"
      }
    },
    {
      "cell_type": "markdown",
      "source": [
        "**Install library jika belum di-install**"
      ],
      "metadata": {
        "id": "ul2CJazz2Ybe"
      }
    },
    {
      "cell_type": "code",
      "execution_count": 1,
      "metadata": {
        "colab": {
          "base_uri": "https://localhost:8080/"
        },
        "id": "Qyot7ig-11mh",
        "outputId": "def32820-99e3-4c8f-f9c6-4a38e02d9872"
      },
      "outputs": [
        {
          "output_type": "stream",
          "name": "stdout",
          "text": [
            "Collecting google-play-scraper\n",
            "  Downloading google_play_scraper-1.2.7-py3-none-any.whl.metadata (50 kB)\n",
            "\u001b[?25l     \u001b[90m━━━━━━━━━━━━━━━━━━━━━━━━━━━━━━━━━━━━━━━━\u001b[0m \u001b[32m0.0/50.2 kB\u001b[0m \u001b[31m?\u001b[0m eta \u001b[36m-:--:--\u001b[0m\r\u001b[2K     \u001b[91m━━━━━━━━━━━━━━━━━━━━━━━━━━━━━━━━\u001b[0m\u001b[91m╸\u001b[0m\u001b[90m━━━━━━━\u001b[0m \u001b[32m41.0/50.2 kB\u001b[0m \u001b[31m12.9 MB/s\u001b[0m eta \u001b[36m0:00:01\u001b[0m\r\u001b[2K     \u001b[90m━━━━━━━━━━━━━━━━━━━━━━━━━━━━━━━━━━━━━━━━\u001b[0m \u001b[32m50.2/50.2 kB\u001b[0m \u001b[31m1.0 MB/s\u001b[0m eta \u001b[36m0:00:00\u001b[0m\n",
            "\u001b[?25hDownloading google_play_scraper-1.2.7-py3-none-any.whl (28 kB)\n",
            "Installing collected packages: google-play-scraper\n",
            "Successfully installed google-play-scraper-1.2.7\n"
          ]
        }
      ],
      "source": [
        "!pip install google-play-scraper"
      ]
    },
    {
      "cell_type": "markdown",
      "source": [
        "Opsi yang terdapat pada fungsi reviews: source : https://pypi.org/project/google-play-scraper/\n",
        "\n",
        "1. ID aplikasi yang ada pada Google Play,\n",
        "didapat dari link aplikasi pada Google Play setelah sama dengan(=). Contoh https://play.google.com/store/apps/details?id=com.ea.game.pvzfree_row maka ID aplikasinya adalah com.ea.game.pvzfree_row\n",
        "2. lang: Bahasa yang digunakan dalam ulasan. Reverensi singkatan nama negara\n",
        "3. country: Asal negara ulasan. Reverensi singkatan nama negara\n",
        "4. sort: Mode pengurutan ulasan. Bisa menggunakan Sort.MOST_RELEVANT (Paling relevan) atau Sort.NEWEST (Paling baru).\n",
        "5. count: Jumlah ulasan yang ingin diambil. Jika menggunakan script reviews_all, maka akan mengambil semua ulasan yang ada dan mengabaikan jumlah count.\n",
        "6. filter_score_with: Rating ulasan (1 sd 5), artinya apabila diisi 1 maka ulasan yang diambil hanya ulasan pada rating 1, atau bisa diisi None untuk mengambil ulasan pada semua rating."
      ],
      "metadata": {
        "id": "IcykDWEI2fe0"
      }
    },
    {
      "cell_type": "code",
      "source": [
        "from google_play_scraper import app, reviews, reviews_all, Sort"
      ],
      "metadata": {
        "id": "-bFiCniS2BDO"
      },
      "execution_count": 2,
      "outputs": []
    },
    {
      "cell_type": "code",
      "source": [
        "detail_app = app(\n",
        "    'com.ea.game.pvzfree_row',\n",
        "    lang='id',\n",
        "    country='id'\n",
        ")\n",
        "detail_app"
      ],
      "metadata": {
        "id": "k3cMlgIJ2Mt0"
      },
      "execution_count": null,
      "outputs": []
    },
    {
      "cell_type": "code",
      "source": [
        "scrap_app, continuation_token = reviews(\n",
        "    'com.ea.game.pvzfree_row',\n",
        "    lang='en',\n",
        "    country='uk',\n",
        "    sort=Sort.NEWEST,\n",
        "    count = 10000,\n",
        "    filter_score_with = None\n",
        ")"
      ],
      "metadata": {
        "id": "SWAZ-ORx28uA"
      },
      "execution_count": 4,
      "outputs": []
    },
    {
      "cell_type": "markdown",
      "source": [
        "**Menyimpan Ulasan dalam file CSV atau JSON**\n",
        "\n",
        "Sebagaimana diketahui Pandas merupakan paket python yang memberikan kemudahan dalam memproses dan menganalisa data. Biasanya data-data yang telah diolah disimpan dalam file, dan yang paling umum adalah file dengan format csv atau (comma separated value).\n",
        "\n",
        "Untuk melakukan export Pandas DataFrame ke file csv, Pandas memiliki berbagai cara, diantaranya dengan memanfaatkan library csv atau menggunakan fungsi .to_csv.\n",
        "\n",
        "source:\n",
        "\n",
        "https://hub.idbigdata.com/sigit-prasetyo/export-pandas-dataframe-sebagai-file-csv--47\n",
        "\n",
        "https://pandas.pydata.org/docs/reference/api/pandas.DataFrame.to_csv.html"
      ],
      "metadata": {
        "id": "7TdlaURz325B"
      }
    },
    {
      "cell_type": "code",
      "source": [
        "# Menyimpan data dengan library csv\n",
        "\n",
        "import csv\n",
        "with open('ulasan_aplikasi.csv', mode='w', newline='', encoding='utf-8') as file:\n",
        "    writer = csv.writer(file)\n",
        "    writer.writerow(['Review'])  # Menulis header kolom\n",
        "    for review in scrap_app:\n",
        "        writer.writerow([review['content']])  # Menulis konten ulasan ke dalam file CSV"
      ],
      "metadata": {
        "id": "Tjf3Irwj30aj"
      },
      "execution_count": 5,
      "outputs": []
    },
    {
      "cell_type": "code",
      "source": [
        "# Menyimpan data dengan fungsi .to_csv\n",
        "import pandas as pd\n",
        "\n",
        "scrap_df = pd.DataFrame(scrap_app)\n",
        "scrap_df.to_csv('ulasan_apk.csv',# Nama file yang akan disimpan (diakhiri dengan .csv)\n",
        "                index = False,   # Apakah index data akan ikut dimasukan kedalam file csv?\n",
        "                sep = ',',       # Tanda yang memisahkan antar kolom (default: ,)\n",
        "                header = True,   # Apakah header atau nama kolom disertakan pada file csv?\n",
        "                mode = 'w'       # Mode pembuatan file memotong jika sudah ada\n",
        "                )"
      ],
      "metadata": {
        "id": "-WhJm5OG4GsV"
      },
      "execution_count": 6,
      "outputs": []
    },
    {
      "cell_type": "code",
      "source": [
        "# Menyimpan data dengan fungsi .to_json\n",
        "\n",
        "scrap_df.to_json('ulasan_apk.json')"
      ],
      "metadata": {
        "id": "elCqLwds4Ks_"
      },
      "execution_count": 7,
      "outputs": []
    },
    {
      "cell_type": "markdown",
      "source": [
        "# Youtube"
      ],
      "metadata": {
        "id": "xTg-Bj3O4NPW"
      }
    },
    {
      "cell_type": "markdown",
      "source": [
        "Link untuk mendapatkan Youtube API Key: https://console.cloud.google.com/\n",
        "\n",
        "Link dokumentasi Google Youtube Data API:\n",
        "https://developers.google.com/youtube/v3\n",
        "\n",
        "Link untuk membaca JSON: https://jsonformatter.curiousconcept.com/"
      ],
      "metadata": {
        "id": "G4areVck5IuX"
      }
    },
    {
      "cell_type": "code",
      "source": [
        "import pandas as pd\n",
        "import requests\n",
        "import json\n",
        "import googleapiclient.discovery\n",
        "from googleapiclient.discovery import build"
      ],
      "metadata": {
        "id": "3aA3Did_8a7Z"
      },
      "execution_count": 8,
      "outputs": []
    },
    {
      "cell_type": "markdown",
      "source": [
        "## Cara 1"
      ],
      "metadata": {
        "id": "b03bak1l4Rr2"
      }
    },
    {
      "cell_type": "code",
      "source": [
        "api_key = 'IzSyBo-6OStkEO5rOwSOToRk'\n",
        "video_id = 'XefDBZJvfJE'\n",
        "youtube = build('youtube', 'v3', developerKey=api_key)\n",
        "video_response = youtube.commentThreads().list(part='snippet, replies', videoId=video_id).execute()"
      ],
      "metadata": {
        "id": "fkD7wM29Fe6I"
      },
      "execution_count": 31,
      "outputs": []
    },
    {
      "cell_type": "code",
      "source": [
        "video_response"
      ],
      "metadata": {
        "id": "Td5u0uMyFo9R"
      },
      "execution_count": null,
      "outputs": []
    },
    {
      "cell_type": "code",
      "source": [
        "replies = []\n",
        "\n",
        "for item in video_response['items']:\n",
        "  published = item['snippet']['topLevelComment']['snippet']['publishedAt']\n",
        "  user = item['snippet']['topLevelComment']['snippet']['authorDisplayName']\n",
        "  comment = item['snippet']['topLevelComment']['snippet']['textDisplay']\n",
        "  likecount = item['snippet']['topLevelComment']['snippet']['likeCount']\n",
        "  replies.append([published, user, comment, likecount])\n",
        "\n",
        "  replycount = item['snippet']['totalReplyCount']\n",
        "  if replycount > 0:\n",
        "    for reply in item['replies']['comments']:\n",
        "      published = reply['snippet']['publishedAt']\n",
        "      user = reply['snippet']['authorDisplayName']\n",
        "      repl = reply['snippet']['textDisplay']\n",
        "      likecount = reply['snippet']['likeCount']\n",
        "      replies.append([published, user, repl, likecount])\n",
        "\n",
        "  if 'nextPageToken' in video_response:\n",
        "    video_response = youtube.commentThreads().list(\n",
        "    part='snippet, replies',\n",
        "    videoId=video_id,\n",
        "    pageToken=video_response['nextPageToken']).execute()\n",
        "  else:\n",
        "    break"
      ],
      "metadata": {
        "id": "qb1_P1Ji4aMV"
      },
      "execution_count": 36,
      "outputs": []
    },
    {
      "cell_type": "code",
      "source": [
        "side_1 = pd.DataFrame(replies)\n",
        "side_1.columns = ['published_date', 'user', 'comment', 'like']\n",
        "side_1"
      ],
      "metadata": {
        "id": "fnVvu-F_GYF3"
      },
      "execution_count": null,
      "outputs": []
    },
    {
      "cell_type": "code",
      "source": [
        "print('Jumlah data: ', len(side_1))\n",
        "print('Data terduplikasi: ', side_1.duplicated().sum())\n",
        "print('Data kosong: ', side_1.isnull().sum())"
      ],
      "metadata": {
        "id": "CVpQJyc3GfHV"
      },
      "execution_count": null,
      "outputs": []
    },
    {
      "cell_type": "markdown",
      "source": [
        "## Cara 2"
      ],
      "metadata": {
        "id": "KbH_um_u53DB"
      }
    },
    {
      "cell_type": "code",
      "source": [
        "info_url = 'https://www.googleapis.com/youtube/v3/videos?part=snippet&id=C_fOUCHb5L0&key=IzSyBo-6OStkEO5rOwSOToRk'\n",
        "comment_url = 'https://www.googleapis.com/youtube/v3/commentThreads?part=snippet&videoId=C_fOUCHb5L0&key=IzSyBo-6OStkEO5rOwSOToRk'"
      ],
      "metadata": {
        "id": "6FNyun4o57gn"
      },
      "execution_count": 25,
      "outputs": []
    },
    {
      "cell_type": "code",
      "source": [
        "response = requests.get(info_url)\n",
        "response.json()"
      ],
      "metadata": {
        "id": "T3XjXQh76eKm"
      },
      "execution_count": null,
      "outputs": []
    },
    {
      "cell_type": "code",
      "source": [
        "comment = requests.get(comment_url)\n",
        "comment.json()"
      ],
      "metadata": {
        "id": "Zn8uiAFF6nPS"
      },
      "execution_count": null,
      "outputs": []
    },
    {
      "cell_type": "code",
      "source": [
        "comments = [item['snippet']['topLevelComment']['snippet']['textDisplay'] for item in comment.json()['items']]\n",
        "likes = [item['snippet']['topLevelComment']['snippet']['likeCount'] for item in comment.json()['items']]\n",
        "side_2 = list(zip(comments, likes))\n",
        "side_2"
      ],
      "metadata": {
        "id": "sNgfNtdL65i_"
      },
      "execution_count": null,
      "outputs": []
    },
    {
      "cell_type": "code",
      "source": [
        "side_2 = pd.DataFrame(side_2)\n",
        "side_2.head()"
      ],
      "metadata": {
        "id": "6mil3y3v7S4d"
      },
      "execution_count": null,
      "outputs": []
    },
    {
      "cell_type": "code",
      "source": [
        "print('Jumlah data: ', len(side_2))\n",
        "print('Data terduplikasi: ', side_2.duplicated().sum())\n",
        "print('Data kosong: ', side_2.isnull().sum())"
      ],
      "metadata": {
        "id": "wajgw5wg_3MT"
      },
      "execution_count": null,
      "outputs": []
    },
    {
      "cell_type": "markdown",
      "source": [
        "## Cara 3"
      ],
      "metadata": {
        "id": "txmBrJQ08QGy"
      }
    },
    {
      "cell_type": "code",
      "source": [
        "youtube = googleapiclient.discovery.build(\n",
        "    api_service_name, api_version, developerKey=DEVELOPER_KEY\n",
        ")"
      ],
      "metadata": {
        "id": "mxZA_FR98uIy"
      },
      "execution_count": 40,
      "outputs": []
    },
    {
      "cell_type": "code",
      "source": [
        "num = 0\n",
        "result = []\n",
        "page_token = None\n",
        "max = 10000\n",
        "\n",
        "while num < max:\n",
        "  request = youtube.commentThreads().list(\n",
        "  part = 'snippet, replies',\n",
        "  videoId = 'dhYOPzcsbGM',\n",
        "  pageToken = page_token,\n",
        "  maxResults = 100\n",
        "  )\n",
        "  response = request.execute()\n",
        "\n",
        "  for i in range (0, len(response['items'])):\n",
        "    published_date = response['items'][i]['snippet']['topLevelComment']['snippet']['publishedAt']\n",
        "    user = response['items'][i]['snippet']['topLevelComment']['snippet']['authorDisplayName']\n",
        "    comment = response['items'][i]['snippet']['topLevelComment']['snippet']['textDisplay']\n",
        "    like = response['items'][i]['snippet']['topLevelComment']['snippet']['likeCount']\n",
        "    result.append([published_date, user, comment, like])\n",
        "    num += 1\n",
        "\n",
        "  page_token = response.get('nextPageToken')"
      ],
      "metadata": {
        "id": "kYz2Rw2L8vdR"
      },
      "execution_count": 44,
      "outputs": []
    },
    {
      "cell_type": "code",
      "source": [
        "side_3 = pd.DataFrame(result)\n",
        "side_3.columns = ['published_date', 'user', 'comment', 'like']\n",
        "side_3.head()"
      ],
      "metadata": {
        "id": "iUftbEh89TA2"
      },
      "execution_count": null,
      "outputs": []
    },
    {
      "cell_type": "code",
      "source": [
        "print('Jumlah data: ', len(side_3))\n",
        "print('Data terduplikasi: ', side_3.duplicated().sum())\n",
        "print('Data kosong: ', side_3.isnull().sum())"
      ],
      "metadata": {
        "id": "_p_Df2WW-Nnn"
      },
      "execution_count": null,
      "outputs": []
    },
    {
      "cell_type": "code",
      "source": [
        "with open('ulasan_youtube.csv', mode='w', newline='', encoding='utf-8') as file:\n",
        "    writer = csv.writer(file)\n",
        "    writer.writerow(['Review'])\n",
        "    for review in scrap_app:\n",
        "        writer.writerow([review['content']])"
      ],
      "metadata": {
        "id": "Oxfyh4f1q38-"
      },
      "execution_count": 47,
      "outputs": []
    }
  ]
}
