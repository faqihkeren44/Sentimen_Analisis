{
  "nbformat": 4,
  "nbformat_minor": 0,
  "metadata": {
    "colab": {
      "provenance": []
    },
    "kernelspec": {
      "name": "python3",
      "display_name": "Python 3"
    },
    "language_info": {
      "name": "python"
    }
  },
  "cells": [
    {
      "cell_type": "code",
      "execution_count": 5,
      "metadata": {
        "colab": {
          "base_uri": "https://localhost:8080/"
        },
        "id": "g74KDcuIej-v",
        "outputId": "acc5def3-e27d-453f-8134-974d1353ae01"
      },
      "outputs": [
        {
          "output_type": "stream",
          "name": "stdout",
          "text": [
            "Collecting google-play-scraper\n",
            "  Downloading google_play_scraper-1.2.7-py3-none-any.whl (28 kB)\n",
            "Installing collected packages: google-play-scraper\n",
            "Successfully installed google-play-scraper-1.2.7\n"
          ]
        }
      ],
      "source": [
        "# Menginstal library jika belum diinstal\n",
        "!pip install google-play-scraper"
      ]
    },
    {
      "cell_type": "code",
      "source": [
        "from google_play_scraper import app, reviews, Sort, reviews_all"
      ],
      "metadata": {
        "id": "nUV1bxzDfef8"
      },
      "execution_count": 15,
      "outputs": []
    },
    {
      "cell_type": "markdown",
      "source": [
        "Opsi yang terdapat pada fungsi `reviews`:\n",
        "1. ID aplikasi yang ada pada Google Play, didapat dari link aplikasi pada Google Play setelah sama dengan(=).\n",
        "Contoh https://play.google.com/store/apps/details?id=com.ea.game.pvzfree_row maka ID aplikasinya adalah com.ea.game.pvzfree_row\n",
        "2. `lang`: Bahasa yang digunakan dalam ulasan.\n",
        "[Reverensi singkatan nama negara]('https://www.iban.com/country-codes')\n",
        "3. `country`: Asal negara ulasan.\n",
        "[Reverensi singkatan nama negara]('https://www.iban.com/country-codes')\n",
        "4. `sort`: Mode pengurutan ulasan. Bisa menggunakan `Sort.MOST_RELEVANT` (Paling relevan) atau `Sort.NEWEST` (Paling baru).\n",
        "5. `count`: Jumlah ulasan yang ingin diambil. Jika menggunakan script `reviews_all`, maka akan mengambil semua ulasan yang ada dan mengabaikan jumlah `count`.\n",
        "6. `filter_score_with`: Rating ulasan (1 sd 5), artinya apabila diisi 1 maka ulasan yang diambil hanya ulasan pada rating 1, atau bisa diisi None untuk mengambil ulasan pada semua rating.\n",
        "\n",
        "source : https://pypi.org/project/google-play-scraper/"
      ],
      "metadata": {
        "id": "2PYvTJSsfuqy"
      }
    },
    {
      "cell_type": "code",
      "source": [
        "detail_app = app(\n",
        "    'com.ea.game.pvzfree_row',\n",
        "    lang='id',\n",
        "    country='id'\n",
        ")\n",
        "detail_app"
      ],
      "metadata": {
        "colab": {
          "base_uri": "https://localhost:8080/"
        },
        "id": "bySmetAkf5lC",
        "outputId": "d5f51638-cf64-43d2-9b6b-fb36777b69a8"
      },
      "execution_count": 16,
      "outputs": [
        {
          "output_type": "execute_result",
          "data": {
            "text/plain": [
              "{'title': 'Plants vs. Zombies™',\n",
              " 'description': 'Bersiaplah untuk memupuk tanamanmu karena segerombolan zombi pencinta keseruan akan menyerbu rumahmu. Gunakan persenjataan yang berisi 49 tanaman pembunuh zombi — peashooter, wall-nut, cherry bomb, dan banyak lagi — untuk membinasakan 26 jenis zombi sebelum mereka mendobrak pintumu. \\r\\n\\r\\nAplikasi ini menawarkan pembelian dalam aplikasi. Kamu bisa menonaktifkan pembelian dalam aplikasi menggunakan pengaturan perangkatmu\\r\\n\\r\\nPEMENANG LEBIH DARI 30 PENGHARGAAN GAME TAHUNAN TERBAIK*\\r\\n\\r\\n50 LEVEL SERU ABIS\\r\\nTaklukkan ke-50 level mode Petualangan — siang, malam, kabut, di kolam renang, di atap, dan banyak lagi. Plus, tangkis gelombang zombi berkelanjutan selama mungkin dengan mode Survival!\\r\\n\\r\\nBUKAN SETAN KUBUR BIASA\\r\\nBertempur melawan zombi pelompat galah, zombi snorkeling, kepala ember, dan 26 zombi seru lainnya. Masing-masing memiliki keahlian spesial sendiri, jadi kamu harus berpikir cepat dan menanam lebih cepat untuk melawan mereka semua.\\r\\nMemerlukan persetujuan atas Kebijakan Privasi & Kuki dan Perjanjian Pengguna EA.\\r\\n\\r\\nLEBIH PINTAR DARI ZOMBI RATA-RATA\\r\\nPerhatikan cara menggunakan suplai sayur-sayuran dan bijian-bijianmu yang terbatas. Zombi suka sekali dengan otak sampai-sampai mereka rela melompat, berlari, menari, berenang, dan bahkan memakan tanaman untuk masuk ke rumahmu. Buka Almanak untuk mempelajari selengkapnya tentang semua zombi dan tanaman guna membantu perencanaan strategimu. \\r\\n\\r\\nBERTEMPUR LEBIH LAMA, JADI LEBIH KUAT\\r\\nDapatkan 49 tanaman tangguh sesuai progresmu dan kumpulkan koin untuk membeli piaraan siput, penguat, dan lainnya.\\r\\n\\r\\nTUMBUH SEIRING PERMAINAN\\r\\nPamerkan kehebatanmu memusnahkan zombi dengan meraih 46 pencapaian mengagumkan dan memamerkannya.\\r\\n\\r\\nPAKET KOIN\\r\\nButuh koin untuk barang baru yang bagus? Beli hingga 600.000 koin langsung dari Menu Utama.\\r\\n\\r\\n*Game orisinal yang bisa diunduh di Mac/PC.\\r\\n\\r\\nJadilah yang pertama tahu! Dapatkan info tentang promo menarik di EA, plus pembaruan game terbaru, tips, dan banyak lagi...\\r\\nKUNJUNGI KAMI: eamobile.com \\r\\nIKUTI KAMI: twitter.com/eamobile\\r\\nSUKAI KAMI: facebook.com/eamobile\\r\\nTONTON KAMI: youtube.com/eamobilegames\\r\\n\\r\\nPerjanjian Pengguna: terms.ea.com\\r\\nKunjungi http://help.ea.com/ untuk bantuan atau pertanyaan.\\r\\n\\r\\nEA dapat menghentikan fitur dan layanan online setelah pemberitahuan 30 hari dikirimkan di www.ea.com/1/service-updates.\\r\\n\\r\\nInformasi Penting Konsumen. Aplikasi ini berisi tautan langsung ke Internet\\r\\n\\r\\nMemerlukan persetujuan atas Kebijakan Privasi & Kuki dan Perjanjian Pengguna EA',\n",
              " 'descriptionHTML': 'Bersiaplah untuk memupuk tanamanmu karena segerombolan zombi pencinta keseruan akan menyerbu rumahmu. Gunakan persenjataan yang berisi 49 tanaman pembunuh zombi — peashooter, wall-nut, cherry bomb, dan banyak lagi — untuk membinasakan 26 jenis zombi sebelum mereka mendobrak pintumu. <br><br>Aplikasi ini menawarkan pembelian dalam aplikasi. Kamu bisa menonaktifkan pembelian dalam aplikasi menggunakan pengaturan perangkatmu<br><br>PEMENANG LEBIH DARI 30 PENGHARGAAN GAME TAHUNAN TERBAIK*<br><br>50 LEVEL SERU ABIS<br>Taklukkan ke-50 level mode Petualangan — siang, malam, kabut, di kolam renang, di atap, dan banyak lagi. Plus, tangkis gelombang zombi berkelanjutan selama mungkin dengan mode Survival!<br><br>BUKAN SETAN KUBUR BIASA<br>Bertempur melawan zombi pelompat galah, zombi snorkeling, kepala ember, dan 26 zombi seru lainnya. Masing-masing memiliki keahlian spesial sendiri, jadi kamu harus berpikir cepat dan menanam lebih cepat untuk melawan mereka semua.<br>Memerlukan persetujuan atas Kebijakan Privasi &amp; Kuki dan Perjanjian Pengguna EA.<br><br>LEBIH PINTAR DARI ZOMBI RATA-RATA<br>Perhatikan cara menggunakan suplai sayur-sayuran dan bijian-bijianmu yang terbatas. Zombi suka sekali dengan otak sampai-sampai mereka rela melompat, berlari, menari, berenang, dan bahkan memakan tanaman untuk masuk ke rumahmu. Buka Almanak untuk mempelajari selengkapnya tentang semua zombi dan tanaman guna membantu perencanaan strategimu. <br><br>BERTEMPUR LEBIH LAMA, JADI LEBIH KUAT<br>Dapatkan 49 tanaman tangguh sesuai progresmu dan kumpulkan koin untuk membeli piaraan siput, penguat, dan lainnya.<br><br>TUMBUH SEIRING PERMAINAN<br>Pamerkan kehebatanmu memusnahkan zombi dengan meraih 46 pencapaian mengagumkan dan memamerkannya.<br><br>PAKET KOIN<br>Butuh koin untuk barang baru yang bagus? Beli hingga 600.000 koin langsung dari Menu Utama.<br><br>*Game orisinal yang bisa diunduh di Mac/PC.<br><br>Jadilah yang pertama tahu! Dapatkan info tentang promo menarik di EA, plus pembaruan game terbaru, tips, dan banyak lagi...<br>KUNJUNGI KAMI: eamobile.com <br>IKUTI KAMI: twitter.com/eamobile<br>SUKAI KAMI: facebook.com/eamobile<br>TONTON KAMI: youtube.com/eamobilegames<br><br>Perjanjian Pengguna: terms.ea.com<br>Kunjungi http://help.ea.com/ untuk bantuan atau pertanyaan.<br><br>EA dapat menghentikan fitur dan layanan online setelah pemberitahuan 30 hari dikirimkan di www.ea.com/1/service-updates.<br><br>Informasi Penting Konsumen. Aplikasi ini berisi tautan langsung ke Internet<br><br>Memerlukan persetujuan atas Kebijakan Privasi &amp; Kuki dan Perjanjian Pengguna EA',\n",
              " 'summary': 'Bendung serangan zombi di halamanmu dengan bantuan tanaman kuat!',\n",
              " 'installs': '500.000.000+',\n",
              " 'minInstalls': 500000000,\n",
              " 'realInstalls': 537800485,\n",
              " 'score': 4.365146,\n",
              " 'ratings': 5697703,\n",
              " 'reviews': 273960,\n",
              " 'histogram': [509280, 156914, 284236, 540824, 4206423],\n",
              " 'price': 0,\n",
              " 'free': True,\n",
              " 'currency': 'IDR',\n",
              " 'sale': False,\n",
              " 'saleTime': None,\n",
              " 'originalPrice': None,\n",
              " 'saleText': None,\n",
              " 'offersIAP': True,\n",
              " 'inAppProductPrice': 'Rp\\xa016.000,00 - Rp\\xa065.000,00 per item',\n",
              " 'developer': 'ELECTRONIC ARTS',\n",
              " 'developerId': '6605125519975771237',\n",
              " 'developerEmail': 'help@eamobile.com',\n",
              " 'developerWebsite': 'http://ea.com/android',\n",
              " 'developerAddress': 'Geneva, Switzerland',\n",
              " 'privacyPolicy': 'http://privacy.ea.com/en',\n",
              " 'genre': 'Strategi',\n",
              " 'genreId': 'GAME_STRATEGY',\n",
              " 'categories': [{'name': 'Strategi', 'id': 'GAME_STRATEGY'},\n",
              "  {'name': 'Pertahanan menara', 'id': None},\n",
              "  {'name': 'Single player', 'id': None},\n",
              "  {'name': 'Bergaya unik', 'id': None},\n",
              "  {'name': 'Offline', 'id': None}],\n",
              " 'icon': 'https://play-lh.googleusercontent.com/PDoj6mrfelRlAC-PczVW9_MiaDyOHNLY4AS4MW_gNY3B01_ynG0PrkHhPN2q3Bthg9k',\n",
              " 'headerImage': 'https://play-lh.googleusercontent.com/0hNpuDj9WRU43j_1BpoO6rzXhLRiTs6JgZuqRs_fZUM75_i0X1y2eDzj03bUqJzwsfA',\n",
              " 'screenshots': ['https://play-lh.googleusercontent.com/RRiQZs4X83Ys0pxMX6_-R8dlsTy7Sqtk12PbCIRJ3YNmEwh7RnFBei0496cTwf4CuA',\n",
              "  'https://play-lh.googleusercontent.com/mNMP6G0LxJlUa5SCaHE4n1ETSe278RhEFmpp5LZWimLtvrZRb6NikPhC8Nvd8lZl_SE',\n",
              "  'https://play-lh.googleusercontent.com/Qt1PrmHvPER8M-7DUFXCKk1wKenJ9EBMGbHBcpZwF5WXS2suaJ3U4WC7iJBu3mSW_Rk',\n",
              "  'https://play-lh.googleusercontent.com/xvwkIEr_-yYz1iuGZ2zOPZHJe-geNi7rvejpWiz3SJxt_BHETCYTLlw4vJQHpuJlGOb-',\n",
              "  'https://play-lh.googleusercontent.com/ptb8zzD_3KwA7SlpZeRQh60q-GJDUr8QBSfwsPn5kzQk497jwS0c8L56RD4BdJflKk4E',\n",
              "  'https://play-lh.googleusercontent.com/P-x0SVemsBgY0Vtg-Tz0WryDTdI9UoTwQr2lFiaCV-2M0oo3PQuQEDZlrRdV_o1Kmw',\n",
              "  'https://play-lh.googleusercontent.com/P9KCCQcL9oA9HqiZo1oACq1jXi3-R2UC9f_hHcH6OjWIixQCscE-Wova8sf0aorxwrc',\n",
              "  'https://play-lh.googleusercontent.com/fFlDSlvZZBz-jSFZYsJypzJrtNoDxwq95U8YrrH8jbL2RYN3yFChNbtuTe6_VbvL5VY',\n",
              "  'https://play-lh.googleusercontent.com/JFXDv012lL314SLjseRdivDxXYDyFerLIr-zbycalFmFdDiAdGpPruCuhhtuYaR7QA',\n",
              "  'https://play-lh.googleusercontent.com/C3wbKyp_vDAhvihybZeqL25HON9pXSbeag6JlEg3JVG40rF7w5_WlvSE9yAZgS0elA',\n",
              "  'https://play-lh.googleusercontent.com/mvJvJ71TUZ0_2_Bw7XFa4d5sDywBQc-JOlDfAzwlQHiz6oR1RvuvP0P_yTyBrwySv94',\n",
              "  'https://play-lh.googleusercontent.com/nMbyi-envmDkpFLTA9mWTJSVZYDhg8rjkVWFus-RM7ZB2cBfbf1bPRdTZSIcgdxBzN-U',\n",
              "  'https://play-lh.googleusercontent.com/ZnnDNh1HHKi6ER6KRJ9Gk3e7xapk8Axs8SBbchLImcs5sUm7lcg_-cRh9ADVs3GfZIk',\n",
              "  'https://play-lh.googleusercontent.com/g1LyjIGW5jp2kP8aFXDl9_2RuUB_tUD7aKHLNzj0FH49hTUy2dQrOVBtAxnHo02t8k-E',\n",
              "  'https://play-lh.googleusercontent.com/Zo9VnOH37jlcJLnqzQokk80GSNWo6xwQS0GSY3LMkRceAyScQ0UTeZ_p-QWRphFjY46k',\n",
              "  'https://play-lh.googleusercontent.com/Ex8k8BmD8N7csMvEC2sigySF0ux-tFGM5RgO99653q-3_1KnYWz3_FWr1b2T1dcqR14',\n",
              "  'https://play-lh.googleusercontent.com/WRLmm0geQ3VaW8RCKlQoEJwELxsY2kKTyzU5rmbo7MRWg2CKKnuZhIxx_m9EfayMccY',\n",
              "  'https://play-lh.googleusercontent.com/eONkNA2A5Lac3l3DS31lIFJ72iWEbmODHQ_UeFYk84UHQYomSH2lGGbGqTcpSr2j_A'],\n",
              " 'video': 'https://www.youtube.com/embed/ZTU3oDHveM8?ps=play&vq=large&rel=0&autohide=1&showinfo=0',\n",
              " 'videoImage': 'https://play-lh.googleusercontent.com/0hNpuDj9WRU43j_1BpoO6rzXhLRiTs6JgZuqRs_fZUM75_i0X1y2eDzj03bUqJzwsfA',\n",
              " 'contentRating': 'Rating 7+',\n",
              " 'contentRatingDescription': 'Kekerasan Ringan',\n",
              " 'adSupported': True,\n",
              " 'containsAds': True,\n",
              " 'released': '13 Nov 2014',\n",
              " 'lastUpdatedOn': '28 Mei 2024',\n",
              " 'updated': 1716901280,\n",
              " 'version': '3.5.5',\n",
              " 'comments': [],\n",
              " 'appId': 'com.ea.game.pvzfree_row',\n",
              " 'url': 'https://play.google.com/store/apps/details?id=com.ea.game.pvzfree_row&hl=id&gl=id'}"
            ]
          },
          "metadata": {},
          "execution_count": 16
        }
      ]
    },
    {
      "cell_type": "code",
      "source": [
        "scrap_app, continuation_token = reviews(\n",
        "    'com.ea.game.pvzfree_row',\n",
        "    lang='id',\n",
        "    country='id',\n",
        "    sort=Sort.NEWEST,\n",
        "    count = 10000,\n",
        "    filter_score_with = None\n",
        ")"
      ],
      "metadata": {
        "id": "ZDimIW5ugp9b"
      },
      "execution_count": 17,
      "outputs": []
    },
    {
      "cell_type": "markdown",
      "source": [
        "**Menyimpan Ulasan dalam file CSV atau JSON**\n",
        "\n",
        "Sebagaimana diketahui Pandas merupakan paket python yang memberikan kemudahan dalam memproses dan menganalisa data. Biasanya data-data yang telah diolah disimpan dalam file, dan yang paling umum adalah file dengan format csv atau (comma separated value).\n",
        "\n",
        "Untuk melakukan export Pandas DataFrame ke file csv, Pandas memiliki berbagai cara, diantaranya dengan memanfaatkan library `csv` atau menggunakan fungsi `.to_csv`.\n",
        "\n",
        "source:\n",
        "\n",
        "https://hub.idbigdata.com/sigit-prasetyo/export-pandas-dataframe-sebagai-file-csv--47\n",
        "\n",
        "https://pandas.pydata.org/docs/reference/api/pandas.DataFrame.to_csv.html"
      ],
      "metadata": {
        "id": "L7WQH5jxhzZl"
      }
    },
    {
      "cell_type": "code",
      "source": [
        "# Menyimpan data dengan library csv\n",
        "\n",
        "import csv\n",
        "with open('ulasan_aplikasi.csv', mode='w', newline='', encoding='utf-8') as file:\n",
        "    writer = csv.writer(file)\n",
        "    writer.writerow(['Review'])  # Menulis header kolom\n",
        "    for review in scrap_app:\n",
        "        writer.writerow([review['content']])  # Menulis konten ulasan ke dalam file CSV"
      ],
      "metadata": {
        "id": "XuXMSC0ih1E5"
      },
      "execution_count": 18,
      "outputs": []
    },
    {
      "cell_type": "code",
      "source": [
        "# Menyimpan data dengan fungsi .to_csv\n",
        "import pandas as pd\n",
        "\n",
        "scrap_df = pd.DataFrame(scrap_app)\n",
        "scrap_df.to_csv('ulasan_apk.csv',# Nama file yang akan disimpan (diakhiri dengan .csv)\n",
        "                index = False,   # Apakah index data akan ikut dimasukan kedalam file csv?\n",
        "                sep = ',',       # Tanda yang memisahkan antar kolom (default: ,)\n",
        "                header = True,   # Apakah header atau nama kolom disertakan pada file csv?\n",
        "                mode = 'w'       # Mode pembuatan file memotong jika sudah ada\n",
        "                )"
      ],
      "metadata": {
        "id": "8G22-0h3h75Z"
      },
      "execution_count": 19,
      "outputs": []
    },
    {
      "cell_type": "code",
      "source": [
        "# Menyimpan data dengan fungsi .to_json\n",
        "\n",
        "scrap_df.to_json('ulasan_apk.json')"
      ],
      "metadata": {
        "id": "Z0dh0eBmi_Su"
      },
      "execution_count": 21,
      "outputs": []
    }
  ]
}