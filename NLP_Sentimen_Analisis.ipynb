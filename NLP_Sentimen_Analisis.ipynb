{
  "cells": [
    {
      "cell_type": "markdown",
      "metadata": {
        "id": "OWuqOF-dyEPr"
      },
      "source": [
        "## Import Library"
      ]
    },
    {
      "cell_type": "code",
      "execution_count": null,
      "metadata": {
        "id": "Qe602l5jyCc_"
      },
      "outputs": [],
      "source": [
        "import pandas as pd\n",
        "import numpy as np\n",
        "import matplotlib.pyplot as plt\n",
        "import seaborn as sns"
      ]
    },
    {
      "cell_type": "markdown",
      "metadata": {
        "id": "sBufmpOuw1mx"
      },
      "source": [
        "## Scraping Dataset"
      ]
    },
    {
      "cell_type": "code",
      "execution_count": null,
      "metadata": {
        "colab": {
          "base_uri": "https://localhost:8080/"
        },
        "id": "M4FXHPE7wp-V",
        "outputId": "b67da48c-676b-47d2-bade-98c228611f2a"
      },
      "outputs": [
        {
          "name": "stdout",
          "output_type": "stream",
          "text": [
            "Collecting google-play-scraper\n",
            "  Downloading google_play_scraper-1.2.7-py3-none-any.whl (28 kB)\n",
            "Installing collected packages: google-play-scraper\n",
            "Successfully installed google-play-scraper-1.2.7\n"
          ]
        }
      ],
      "source": [
        "!pip install google-play-scraper"
      ]
    },
    {
      "cell_type": "markdown",
      "metadata": {
        "id": "q7ZlqQTJo5Qu"
      },
      "source": [
        "Beberapa fungsi `google_play_scraper`:\n",
        "* `app`: Menampilkan detail aplikasi\n",
        "* `reviews`: Menampilkan komentar dari pengguna aplikasi\n",
        "* `permission`: Menampilkan Izin yang diperlukan untuk menjalankan aplikasi\n",
        "* `search`: Mencari aplikasi yang ada pada goole play dengan kata kunci yang kita inginkan"
      ]
    },
    {
      "cell_type": "code",
      "execution_count": null,
      "metadata": {
        "id": "E9wWOG1IywZz"
      },
      "outputs": [],
      "source": [
        "from google_play_scraper import reviews, Sort"
      ]
    },
    {
      "cell_type": "markdown",
      "metadata": {
        "id": "SaBFN1zEy6BH"
      },
      "source": [
        "Opsi yang terdapat pada fungsi `reviews`:\n",
        "1. ID aplikasi yang ada pada Google Play, didapat dari link aplikasi pada Google Play setelah sama dengan(=).\n",
        "Contoh https://play.google.com/store/apps/details?id=com.ea.game.pvzfree_row maka ID aplikasinya adalah com.ea.game.pvzfree_row\n",
        "2. `lang`: Bahasa yang digunakan dalam ulasan.\n",
        "[Reverensi singkatan nama negara]('https://www.iban.com/country-codes')\n",
        "3. `country`: Asal negara ulasan.\n",
        "[Reverensi singkatan nama negara]('https://www.iban.com/country-codes')\n",
        "4. `sort`: Mode pengurutan ulasan. Bisa menggunakan `Sort.MOST_RELEVANT` (Paling relevan) atau `Sort.NEWEST` (Paling baru).\n",
        "5. `count`: Jumlah ulasan yang ingin diambil. Jika menggunakan script `reviews_all`, maka akan mengambil semua ulasan yang ada dan mengabaikan jumlah `count`.\n",
        "6. `filter_score_with`: Rating ulasan (1 sd 5), artinya apabila diisi 1 maka ulasan yang diambil hanya ulasan pada rating 1, atau bisa diisi None untuk mengambil ulasan pada semua rating.\n",
        "\n",
        "source : https://pypi.org/project/google-play-scraper/\n",
        "\n",
        "\n"
      ]
    },
    {
      "cell_type": "code",
      "execution_count": null,
      "metadata": {
        "id": "6ZsXwpjXwzkq"
      },
      "outputs": [],
      "source": [
        "scrapdata, continuation_token = reviews(\n",
        "    'com.ea.game.pvzfree_row',\n",
        "    lang='id',\n",
        "    country='id',\n",
        "    sort=Sort.MOST_RELEVANT,\n",
        "    count = 10000,\n",
        "    filter_score_with = 1\n",
        ")"
      ]
    },
    {
      "cell_type": "markdown",
      "metadata": {
        "id": "DYOAbwgy8wBg"
      },
      "source": [
        "**Menyimpan Ulasan dalam file CSV**\n",
        "\n",
        "Sebagaimana diketahui Pandas merupakan paket python yang memberikan kemudahan dalam memproses dan menganalisa data. Biasanya data-data yang telah diolah disimpan dalam file, dan yang paling umum adalah file dengan format csv atau (comma separated value).\n",
        "\n",
        "Untuk melakukan export Pandas DataFrame ke file csv, Pandas memiliki berbagai cara, diantaranya dengan memanfaatkan library `csv` atau menggunakan fungsi `.to_csv`.\n",
        "\n",
        "source:\n",
        "\n",
        "https://hub.idbigdata.com/sigit-prasetyo/export-pandas-dataframe-sebagai-file-csv--47\n",
        "\n",
        "https://pandas.pydata.org/docs/reference/api/pandas.DataFrame.to_csv.html"
      ]
    },
    {
      "cell_type": "code",
      "execution_count": null,
      "metadata": {
        "id": "luQ-HCHPxGg9"
      },
      "outputs": [],
      "source": [
        "# Menyimpan data dengan library csv\n",
        "\n",
        "import csv\n",
        "with open('ulasan_aplikasi.csv', mode='w', newline='', encoding='utf-8') as file:\n",
        "    writer = csv.writer(file)\n",
        "    writer.writerow(['Review'])  # Menulis header kolom\n",
        "    for review in scrapdata:\n",
        "        writer.writerow([review['content']])  # Menulis konten ulasan ke dalam file CSV"
      ]
    },
    {
      "cell_type": "code",
      "execution_count": null,
      "metadata": {
        "id": "82HHfLYq7L9a"
      },
      "outputs": [],
      "source": [
        "#Menyimpan data dengan fungsi .to_csv\n",
        "\n",
        "scrap_df = pd.DataFrame(scrapdata)\n",
        "scrap_df.to_csv('ulasan_apk.csv', # Nama file yang akan disimpan (diakhiri dengan .csv)\n",
        "                index = False,   # Apakah index data akan ikut dimasukan kedalam file csv?\n",
        "                sep = ',',       # Tanda yang memisahkan antar kolom (default: ,)\n",
        "                header = True,   # Apakah header atau nama kolom disertakan pada file csv?\n",
        "                mode = 'w'       # Mode pembuatan file memotong jika sudah ada\n",
        "                )"
      ]
    },
    {
      "cell_type": "markdown",
      "metadata": {
        "id": "TADgQXv-xMjV"
      },
      "source": [
        "## Loading Dataset"
      ]
    },
    {
      "cell_type": "code",
      "execution_count": null,
      "metadata": {
        "colab": {
          "base_uri": "https://localhost:8080/"
        },
        "id": "XtF3LY8WxKsh",
        "outputId": "a7966263-7be5-4e1a-fc3f-278a3fc49c27"
      },
      "outputs": [
        {
          "name": "stdout",
          "output_type": "stream",
          "text": [
            "<class 'pandas.core.frame.DataFrame'>\n",
            "RangeIndex: 10000 entries, 0 to 9999\n",
            "Data columns (total 11 columns):\n",
            " #   Column                Non-Null Count  Dtype         \n",
            "---  ------                --------------  -----         \n",
            " 0   reviewId              10000 non-null  object        \n",
            " 1   userName              10000 non-null  object        \n",
            " 2   userImage             10000 non-null  object        \n",
            " 3   content               10000 non-null  object        \n",
            " 4   score                 10000 non-null  int64         \n",
            " 5   thumbsUpCount         10000 non-null  int64         \n",
            " 6   reviewCreatedVersion  3364 non-null   object        \n",
            " 7   at                    10000 non-null  datetime64[ns]\n",
            " 8   replyContent          2 non-null      object        \n",
            " 9   repliedAt             2 non-null      datetime64[ns]\n",
            " 10  appVersion            3364 non-null   object        \n",
            "dtypes: datetime64[ns](2), int64(2), object(7)\n",
            "memory usage: 859.5+ KB\n",
            "Jumlah nilai terdupliasi:  0\n"
          ]
        }
      ],
      "source": [
        "scrap_df.info()\n",
        "print('Jumlah nilai terdupliasi: ', scrap_df.duplicated().sum())"
      ]
    },
    {
      "cell_type": "code",
      "execution_count": null,
      "metadata": {
        "colab": {
          "base_uri": "https://localhost:8080/",
          "height": 206
        },
        "id": "Y5IMBh3UOf1l",
        "outputId": "27ea0d68-6975-4ffe-d299-a3d7ad2940f8"
      },
      "outputs": [
        {
          "data": {
            "application/vnd.google.colaboratory.intrinsic+json": {
              "summary": "{\n  \"name\": \"main_df\",\n  \"rows\": 10000,\n  \"fields\": [\n    {\n      \"column\": \"reviewId\",\n      \"properties\": {\n        \"dtype\": \"string\",\n        \"num_unique_values\": 10000,\n        \"samples\": [\n          \"255cf7a7-420b-411b-8f52-b9bd6d0f512a\",\n          \"370ecb24-9f79-4bc4-a7b5-73147e9da01e\",\n          \"4aeab54c-3e76-4e3f-9dc8-7679f98c5150\"\n        ],\n        \"semantic_type\": \"\",\n        \"description\": \"\"\n      }\n    },\n    {\n      \"column\": \"userName\",\n      \"properties\": {\n        \"dtype\": \"category\",\n        \"num_unique_values\": 659,\n        \"samples\": [\n          \"komang tri\",\n          \"Syofi Ana\",\n          \"Khoirul Muminin (Khoirul)\"\n        ],\n        \"semantic_type\": \"\",\n        \"description\": \"\"\n      }\n    },\n    {\n      \"column\": \"content\",\n      \"properties\": {\n        \"dtype\": \"string\",\n        \"num_unique_values\": 9994,\n        \"samples\": [\n          \"Ini game udah bertahun-tahun aku mainin dulu pernah main di komputer udah ngalahin bos nya juga seru banget deh l, yg belum download segera jangan ragu\",\n          \"Apaan si gua udah cape cape level tinggi pas ke home tiba tiba ulang dari level 1 ,gimana gua ga kesel awalnya gua kira cuma gua yg ngerasain cuma ternyata ada org lain yg kaya gitu juga,ya percuma gua mainin lagi nanti ke level 1 lagi kan udah ngehabisin waktu\",\n          \"Kebanyakan iklan\"\n        ],\n        \"semantic_type\": \"\",\n        \"description\": \"\"\n      }\n    },\n    {\n      \"column\": \"score\",\n      \"properties\": {\n        \"dtype\": \"number\",\n        \"std\": 1,\n        \"min\": 1,\n        \"max\": 5,\n        \"num_unique_values\": 5,\n        \"samples\": [\n          4,\n          3,\n          5\n        ],\n        \"semantic_type\": \"\",\n        \"description\": \"\"\n      }\n    }\n  ]\n}",
              "type": "dataframe",
              "variable_name": "main_df"
            },
            "text/html": [
              "\n",
              "  <div id=\"df-96f83a62-a889-4591-8117-370f43975992\" class=\"colab-df-container\">\n",
              "    <div>\n",
              "<style scoped>\n",
              "    .dataframe tbody tr th:only-of-type {\n",
              "        vertical-align: middle;\n",
              "    }\n",
              "\n",
              "    .dataframe tbody tr th {\n",
              "        vertical-align: top;\n",
              "    }\n",
              "\n",
              "    .dataframe thead th {\n",
              "        text-align: right;\n",
              "    }\n",
              "</style>\n",
              "<table border=\"1\" class=\"dataframe\">\n",
              "  <thead>\n",
              "    <tr style=\"text-align: right;\">\n",
              "      <th></th>\n",
              "      <th>reviewId</th>\n",
              "      <th>userName</th>\n",
              "      <th>content</th>\n",
              "      <th>score</th>\n",
              "    </tr>\n",
              "  </thead>\n",
              "  <tbody>\n",
              "    <tr>\n",
              "      <th>0</th>\n",
              "      <td>c73eebce-095f-4d73-b5aa-f8b698b867f2</td>\n",
              "      <td>Pengguna Google</td>\n",
              "      <td>Game nya sih bagus dah pernah main juga tapi s...</td>\n",
              "      <td>2</td>\n",
              "    </tr>\n",
              "    <tr>\n",
              "      <th>1</th>\n",
              "      <td>3035513f-133f-4a7e-826b-af88fcf83454</td>\n",
              "      <td>Pengguna Google</td>\n",
              "      <td>Game ini bagus tapi tolong developer perbanyak...</td>\n",
              "      <td>4</td>\n",
              "    </tr>\n",
              "    <tr>\n",
              "      <th>2</th>\n",
              "      <td>0a128133-ead6-4854-b301-d9c32c8ad0c0</td>\n",
              "      <td>Pengguna Google</td>\n",
              "      <td>gamenya seru banget tapi sayangnya setelah men...</td>\n",
              "      <td>5</td>\n",
              "    </tr>\n",
              "    <tr>\n",
              "      <th>3</th>\n",
              "      <td>01521727-8847-4c53-bbeb-417e6da8dba2</td>\n",
              "      <td>Pengguna Google</td>\n",
              "      <td>Tambahin fitur cloudnya dong, biar progressnya...</td>\n",
              "      <td>2</td>\n",
              "    </tr>\n",
              "    <tr>\n",
              "      <th>4</th>\n",
              "      <td>f4cf169f-e151-4654-8f86-3a9411936918</td>\n",
              "      <td>Pengguna Google</td>\n",
              "      <td>Ngebug bro .... sesudah isi bulan dan tahun ke...</td>\n",
              "      <td>1</td>\n",
              "    </tr>\n",
              "  </tbody>\n",
              "</table>\n",
              "</div>\n",
              "    <div class=\"colab-df-buttons\">\n",
              "\n",
              "  <div class=\"colab-df-container\">\n",
              "    <button class=\"colab-df-convert\" onclick=\"convertToInteractive('df-96f83a62-a889-4591-8117-370f43975992')\"\n",
              "            title=\"Convert this dataframe to an interactive table.\"\n",
              "            style=\"display:none;\">\n",
              "\n",
              "  <svg xmlns=\"http://www.w3.org/2000/svg\" height=\"24px\" viewBox=\"0 -960 960 960\">\n",
              "    <path d=\"M120-120v-720h720v720H120Zm60-500h600v-160H180v160Zm220 220h160v-160H400v160Zm0 220h160v-160H400v160ZM180-400h160v-160H180v160Zm440 0h160v-160H620v160ZM180-180h160v-160H180v160Zm440 0h160v-160H620v160Z\"/>\n",
              "  </svg>\n",
              "    </button>\n",
              "\n",
              "  <style>\n",
              "    .colab-df-container {\n",
              "      display:flex;\n",
              "      gap: 12px;\n",
              "    }\n",
              "\n",
              "    .colab-df-convert {\n",
              "      background-color: #E8F0FE;\n",
              "      border: none;\n",
              "      border-radius: 50%;\n",
              "      cursor: pointer;\n",
              "      display: none;\n",
              "      fill: #1967D2;\n",
              "      height: 32px;\n",
              "      padding: 0 0 0 0;\n",
              "      width: 32px;\n",
              "    }\n",
              "\n",
              "    .colab-df-convert:hover {\n",
              "      background-color: #E2EBFA;\n",
              "      box-shadow: 0px 1px 2px rgba(60, 64, 67, 0.3), 0px 1px 3px 1px rgba(60, 64, 67, 0.15);\n",
              "      fill: #174EA6;\n",
              "    }\n",
              "\n",
              "    .colab-df-buttons div {\n",
              "      margin-bottom: 4px;\n",
              "    }\n",
              "\n",
              "    [theme=dark] .colab-df-convert {\n",
              "      background-color: #3B4455;\n",
              "      fill: #D2E3FC;\n",
              "    }\n",
              "\n",
              "    [theme=dark] .colab-df-convert:hover {\n",
              "      background-color: #434B5C;\n",
              "      box-shadow: 0px 1px 3px 1px rgba(0, 0, 0, 0.15);\n",
              "      filter: drop-shadow(0px 1px 2px rgba(0, 0, 0, 0.3));\n",
              "      fill: #FFFFFF;\n",
              "    }\n",
              "  </style>\n",
              "\n",
              "    <script>\n",
              "      const buttonEl =\n",
              "        document.querySelector('#df-96f83a62-a889-4591-8117-370f43975992 button.colab-df-convert');\n",
              "      buttonEl.style.display =\n",
              "        google.colab.kernel.accessAllowed ? 'block' : 'none';\n",
              "\n",
              "      async function convertToInteractive(key) {\n",
              "        const element = document.querySelector('#df-96f83a62-a889-4591-8117-370f43975992');\n",
              "        const dataTable =\n",
              "          await google.colab.kernel.invokeFunction('convertToInteractive',\n",
              "                                                    [key], {});\n",
              "        if (!dataTable) return;\n",
              "\n",
              "        const docLinkHtml = 'Like what you see? Visit the ' +\n",
              "          '<a target=\"_blank\" href=https://colab.research.google.com/notebooks/data_table.ipynb>data table notebook</a>'\n",
              "          + ' to learn more about interactive tables.';\n",
              "        element.innerHTML = '';\n",
              "        dataTable['output_type'] = 'display_data';\n",
              "        await google.colab.output.renderOutput(dataTable, element);\n",
              "        const docLink = document.createElement('div');\n",
              "        docLink.innerHTML = docLinkHtml;\n",
              "        element.appendChild(docLink);\n",
              "      }\n",
              "    </script>\n",
              "  </div>\n",
              "\n",
              "\n",
              "<div id=\"df-6a7b1fa2-09ed-4707-8c96-fec13eb649da\">\n",
              "  <button class=\"colab-df-quickchart\" onclick=\"quickchart('df-6a7b1fa2-09ed-4707-8c96-fec13eb649da')\"\n",
              "            title=\"Suggest charts\"\n",
              "            style=\"display:none;\">\n",
              "\n",
              "<svg xmlns=\"http://www.w3.org/2000/svg\" height=\"24px\"viewBox=\"0 0 24 24\"\n",
              "     width=\"24px\">\n",
              "    <g>\n",
              "        <path d=\"M19 3H5c-1.1 0-2 .9-2 2v14c0 1.1.9 2 2 2h14c1.1 0 2-.9 2-2V5c0-1.1-.9-2-2-2zM9 17H7v-7h2v7zm4 0h-2V7h2v10zm4 0h-2v-4h2v4z\"/>\n",
              "    </g>\n",
              "</svg>\n",
              "  </button>\n",
              "\n",
              "<style>\n",
              "  .colab-df-quickchart {\n",
              "      --bg-color: #E8F0FE;\n",
              "      --fill-color: #1967D2;\n",
              "      --hover-bg-color: #E2EBFA;\n",
              "      --hover-fill-color: #174EA6;\n",
              "      --disabled-fill-color: #AAA;\n",
              "      --disabled-bg-color: #DDD;\n",
              "  }\n",
              "\n",
              "  [theme=dark] .colab-df-quickchart {\n",
              "      --bg-color: #3B4455;\n",
              "      --fill-color: #D2E3FC;\n",
              "      --hover-bg-color: #434B5C;\n",
              "      --hover-fill-color: #FFFFFF;\n",
              "      --disabled-bg-color: #3B4455;\n",
              "      --disabled-fill-color: #666;\n",
              "  }\n",
              "\n",
              "  .colab-df-quickchart {\n",
              "    background-color: var(--bg-color);\n",
              "    border: none;\n",
              "    border-radius: 50%;\n",
              "    cursor: pointer;\n",
              "    display: none;\n",
              "    fill: var(--fill-color);\n",
              "    height: 32px;\n",
              "    padding: 0;\n",
              "    width: 32px;\n",
              "  }\n",
              "\n",
              "  .colab-df-quickchart:hover {\n",
              "    background-color: var(--hover-bg-color);\n",
              "    box-shadow: 0 1px 2px rgba(60, 64, 67, 0.3), 0 1px 3px 1px rgba(60, 64, 67, 0.15);\n",
              "    fill: var(--button-hover-fill-color);\n",
              "  }\n",
              "\n",
              "  .colab-df-quickchart-complete:disabled,\n",
              "  .colab-df-quickchart-complete:disabled:hover {\n",
              "    background-color: var(--disabled-bg-color);\n",
              "    fill: var(--disabled-fill-color);\n",
              "    box-shadow: none;\n",
              "  }\n",
              "\n",
              "  .colab-df-spinner {\n",
              "    border: 2px solid var(--fill-color);\n",
              "    border-color: transparent;\n",
              "    border-bottom-color: var(--fill-color);\n",
              "    animation:\n",
              "      spin 1s steps(1) infinite;\n",
              "  }\n",
              "\n",
              "  @keyframes spin {\n",
              "    0% {\n",
              "      border-color: transparent;\n",
              "      border-bottom-color: var(--fill-color);\n",
              "      border-left-color: var(--fill-color);\n",
              "    }\n",
              "    20% {\n",
              "      border-color: transparent;\n",
              "      border-left-color: var(--fill-color);\n",
              "      border-top-color: var(--fill-color);\n",
              "    }\n",
              "    30% {\n",
              "      border-color: transparent;\n",
              "      border-left-color: var(--fill-color);\n",
              "      border-top-color: var(--fill-color);\n",
              "      border-right-color: var(--fill-color);\n",
              "    }\n",
              "    40% {\n",
              "      border-color: transparent;\n",
              "      border-right-color: var(--fill-color);\n",
              "      border-top-color: var(--fill-color);\n",
              "    }\n",
              "    60% {\n",
              "      border-color: transparent;\n",
              "      border-right-color: var(--fill-color);\n",
              "    }\n",
              "    80% {\n",
              "      border-color: transparent;\n",
              "      border-right-color: var(--fill-color);\n",
              "      border-bottom-color: var(--fill-color);\n",
              "    }\n",
              "    90% {\n",
              "      border-color: transparent;\n",
              "      border-bottom-color: var(--fill-color);\n",
              "    }\n",
              "  }\n",
              "</style>\n",
              "\n",
              "  <script>\n",
              "    async function quickchart(key) {\n",
              "      const quickchartButtonEl =\n",
              "        document.querySelector('#' + key + ' button');\n",
              "      quickchartButtonEl.disabled = true;  // To prevent multiple clicks.\n",
              "      quickchartButtonEl.classList.add('colab-df-spinner');\n",
              "      try {\n",
              "        const charts = await google.colab.kernel.invokeFunction(\n",
              "            'suggestCharts', [key], {});\n",
              "      } catch (error) {\n",
              "        console.error('Error during call to suggestCharts:', error);\n",
              "      }\n",
              "      quickchartButtonEl.classList.remove('colab-df-spinner');\n",
              "      quickchartButtonEl.classList.add('colab-df-quickchart-complete');\n",
              "    }\n",
              "    (() => {\n",
              "      let quickchartButtonEl =\n",
              "        document.querySelector('#df-6a7b1fa2-09ed-4707-8c96-fec13eb649da button');\n",
              "      quickchartButtonEl.style.display =\n",
              "        google.colab.kernel.accessAllowed ? 'block' : 'none';\n",
              "    })();\n",
              "  </script>\n",
              "</div>\n",
              "\n",
              "    </div>\n",
              "  </div>\n"
            ],
            "text/plain": [
              "                               reviewId         userName  \\\n",
              "0  c73eebce-095f-4d73-b5aa-f8b698b867f2  Pengguna Google   \n",
              "1  3035513f-133f-4a7e-826b-af88fcf83454  Pengguna Google   \n",
              "2  0a128133-ead6-4854-b301-d9c32c8ad0c0  Pengguna Google   \n",
              "3  01521727-8847-4c53-bbeb-417e6da8dba2  Pengguna Google   \n",
              "4  f4cf169f-e151-4654-8f86-3a9411936918  Pengguna Google   \n",
              "\n",
              "                                             content  score  \n",
              "0  Game nya sih bagus dah pernah main juga tapi s...      2  \n",
              "1  Game ini bagus tapi tolong developer perbanyak...      4  \n",
              "2  gamenya seru banget tapi sayangnya setelah men...      5  \n",
              "3  Tambahin fitur cloudnya dong, biar progressnya...      2  \n",
              "4  Ngebug bro .... sesudah isi bulan dan tahun ke...      1  "
            ]
          },
          "execution_count": 8,
          "metadata": {},
          "output_type": "execute_result"
        }
      ],
      "source": [
        "main_df = scrap_df[['reviewId', 'userName', 'content', 'score']]\n",
        "main_df.head()"
      ]
    },
    {
      "cell_type": "code",
      "execution_count": null,
      "metadata": {
        "colab": {
          "base_uri": "https://localhost:8080/"
        },
        "id": "24v-jlfz3t11",
        "outputId": "9237c2f5-1c36-4458-ca4e-f1554c5c71f5"
      },
      "outputs": [
        {
          "name": "stdout",
          "output_type": "stream",
          "text": [
            "(10000, 4)\n"
          ]
        }
      ],
      "source": [
        "print(main_df.shape)"
      ]
    },
    {
      "cell_type": "markdown",
      "metadata": {
        "id": "TBv9RgkfxuMX"
      },
      "source": [
        "## Preprocessing Text"
      ]
    },
    {
      "cell_type": "markdown",
      "metadata": {
        "id": "JadXh4keFVLf"
      },
      "source": [
        "### **Case Folding**\n",
        "Proses mengubah semua huruf dalam teks menjadi huruf kecil atau huruf besar agar konsisten. Misalnya, mengubah \"TeKS\" menjadi \"teks\" atau \"TEKS\"."
      ]
    },
    {
      "cell_type": "code",
      "execution_count": null,
      "metadata": {
        "colab": {
          "base_uri": "https://localhost:8080/"
        },
        "id": "CAUPZ0sSGaqP",
        "outputId": "58e0574f-2e6a-4a68-fb90-d2cddad3fd31"
      },
      "outputs": [
        {
          "data": {
            "text/plain": [
              "0       game nya sih bagus dah pernah main juga tapi s...\n",
              "1       game ini bagus tapi tolong developer perbanyak...\n",
              "2       gamenya seru banget tapi sayangnya setelah men...\n",
              "3       tambahin fitur cloudnya dong, biar progressnya...\n",
              "4       ngebug bro .... sesudah isi bulan dan tahun ke...\n",
              "                              ...                        \n",
              "9995     bagus banget game ini walaupun plant nya sedikit\n",
              "9996    kerem permainan nya makanya kasih bintang ☆☆☆☆...\n",
              "9997    karena permainan nya sangat seru dan tidak ada...\n",
              "9998    aku sudah main game ini udh lama sudah sampai ...\n",
              "9999    seru sih seru tapi mb nya gede banget tapi tet...\n",
              "Name: content, Length: 10000, dtype: object"
            ]
          },
          "execution_count": 10,
          "metadata": {},
          "output_type": "execute_result"
        }
      ],
      "source": [
        "main_df.loc[:, 'content'] = main_df.loc[:, 'content'].str.lower()\n",
        "main_df['content']"
      ]
    },
    {
      "cell_type": "markdown",
      "metadata": {
        "id": "yyq_GtUEFdL2"
      },
      "source": [
        "### **Removal Special Characters**\n",
        "Menghapus karakter khusus atau simbol yang tidak relevan atau tidak diinginkan dari teks.\n",
        "* Menghapus Angka\n",
        "* Menghapus Tanda Baca\n",
        "* Menghapus Garis Baru\n",
        "* Menghapus Spasi Tambahan Di Awal dan Akhir Teks"
      ]
    },
    {
      "cell_type": "code",
      "execution_count": null,
      "metadata": {
        "id": "kGXHD467cnXm"
      },
      "outputs": [],
      "source": [
        "import re"
      ]
    },
    {
      "cell_type": "code",
      "execution_count": null,
      "metadata": {
        "colab": {
          "base_uri": "https://localhost:8080/"
        },
        "id": "oMGRf1z9dSQH",
        "outputId": "df773098-05ab-4038-8d32-315b23f39c2a"
      },
      "outputs": [
        {
          "data": {
            "text/plain": [
              "0       game nya sih bagus dah pernah main juga tapi s...\n",
              "1       game ini bagus tapi tolong developer perbanyak...\n",
              "2       gamenya seru banget tapi sayangnya setelah men...\n",
              "3       tambahin fitur cloudnya dong, biar progressnya...\n",
              "4       ngebug bro .... sesudah isi bulan dan tahun ke...\n",
              "                              ...                        \n",
              "9995     bagus banget game ini walaupun plant nya sedikit\n",
              "9996    kerem permainan nya makanya kasih bintang ☆☆☆☆...\n",
              "9997    karena permainan nya sangat seru dan tidak ada...\n",
              "9998    aku sudah main game ini udh lama sudah sampai ...\n",
              "9999    seru sih seru tapi mb nya gede banget tapi tet...\n",
              "Name: content, Length: 10000, dtype: object"
            ]
          },
          "execution_count": 12,
          "metadata": {},
          "output_type": "execute_result"
        }
      ],
      "source": [
        "#Menghapus Angka\n",
        "for i in range(len(main_df)):\n",
        "    main_df.loc[i, 'content'] = re.sub(r'\\d+', '', main_df.loc[i, 'content'])\n",
        "main_df['content']"
      ]
    },
    {
      "cell_type": "code",
      "execution_count": null,
      "metadata": {
        "colab": {
          "base_uri": "https://localhost:8080/"
        },
        "id": "2m7AKLoJfNjk",
        "outputId": "aa76a7d0-081e-4366-c1a7-48cf83bd254f"
      },
      "outputs": [
        {
          "data": {
            "text/plain": [
              "0       game nya sih bagus dah pernah main juga tapi s...\n",
              "1       game ini bagus tapi tolong developer perbanyak...\n",
              "2       gamenya seru banget tapi sayangnya setelah men...\n",
              "3       tambahin fitur cloudnya dong biar progressnya ...\n",
              "4       ngebug bro  sesudah isi bulan dan tahun kelahi...\n",
              "                              ...                        \n",
              "9995     bagus banget game ini walaupun plant nya sedikit\n",
              "9996    kerem permainan nya makanya kasih bintang ☆☆☆☆...\n",
              "9997    karena permainan nya sangat seru dan tidak ada...\n",
              "9998    aku sudah main game ini udh lama sudah sampai ...\n",
              "9999    seru sih seru tapi mb nya gede banget tapi tet...\n",
              "Name: content, Length: 10000, dtype: object"
            ]
          },
          "execution_count": 13,
          "metadata": {},
          "output_type": "execute_result"
        }
      ],
      "source": [
        "# Menghapus Tanda Baca\n",
        "punc = '''!()-[]{};:'\"\\,<>./?@#$%^&*_~'''\n",
        "for i in range(len(main_df)):\n",
        "    text = main_df.loc[i, 'content']\n",
        "    for char in punc:\n",
        "        text = text.replace(char, '')\n",
        "    main_df.loc[i, 'content'] = text\n",
        "main_df['content']"
      ]
    },
    {
      "cell_type": "code",
      "execution_count": null,
      "metadata": {
        "colab": {
          "base_uri": "https://localhost:8080/"
        },
        "id": "k29K6FcJg_Nb",
        "outputId": "0da94bce-4c7a-4344-f6af-d9c3ad98b646"
      },
      "outputs": [
        {
          "data": {
            "text/plain": [
              "0      gamenya bagus soalnya ada level nya menantang ...\n",
              "1      menurut saya game ini sudah cukup bagus saya p...\n",
              "2      game nya bagusbisa ngajarkan banyak taktik unt...\n",
              "3      mode survival endless nya tolong di perbaiki k...\n",
              "4      kalau pas main game ini  aplikasinya suka ngeh...\n",
              "                             ...                        \n",
              "195    udah topup pake duit malah coin ngga masukgame...\n",
              "196    aku sudah kalah kan drzombostapi zombie yeti b...\n",
              "197    gamenya makin seru dengan fitur terbaru akhirn...\n",
              "198    tolong ada yang bisa bantu saya sudah  kali in...\n",
              "199    halo electronic arts pas aku mau masuk di flag...\n",
              "Name: content, Length: 200, dtype: object"
            ]
          },
          "execution_count": 14,
          "metadata": {},
          "output_type": "execute_result"
        }
      ],
      "source": [
        "# Menghapus Mention dan Hastag\n",
        "for i in range(len(main_df)):\n",
        "    main_df.loc[i, 'content'] = re.sub(r'@[A-Za-z0-9]+', '', main_df.loc[i, 'content'])\n",
        "    main_df.loc[i, 'content'] = re.sub(r'#[A-Za-z0-9]+', '', main_df.loc[i, 'content'])\n",
        "main_df['content']"
      ]
    },
    {
      "cell_type": "code",
      "execution_count": null,
      "metadata": {
        "colab": {
          "background_save": true,
          "base_uri": "https://localhost:8080/"
        },
        "id": "werTK02gU3qJ",
        "outputId": "74895fde-c6fb-42fb-ccf6-480caff9e64b"
      },
      "outputs": [
        {
          "name": "stderr",
          "output_type": "stream",
          "text": [
            "<ipython-input-15-605d01c1ada3>:2: SettingWithCopyWarning: \n",
            "A value is trying to be set on a copy of a slice from a DataFrame.\n",
            "Try using .loc[row_indexer,col_indexer] = value instead\n",
            "\n",
            "See the caveats in the documentation: https://pandas.pydata.org/pandas-docs/stable/user_guide/indexing.html#returning-a-view-versus-a-copy\n",
            "  main_df['content'] = main_df.loc[:, 'content'].str.strip()\n"
          ]
        },
        {
          "data": {
            "text/plain": [
              "0       game nya sih bagus dah pernah main juga tapi s...\n",
              "1       game ini bagus tapi tolong developer perbanyak...\n",
              "2       gamenya seru banget tapi sayangnya setelah men...\n",
              "3       tambahin fitur cloudnya dong biar progressnya ...\n",
              "4       ngebug bro  sesudah isi bulan dan tahun kelahi...\n",
              "                              ...                        \n",
              "9995     bagus banget game ini walaupun plant nya sedikit\n",
              "9996    kerem permainan nya makanya kasih bintang ☆☆☆☆...\n",
              "9997    karena permainan nya sangat seru dan tidak ada...\n",
              "9998    aku sudah main game ini udh lama sudah sampai ...\n",
              "9999    seru sih seru tapi mb nya gede banget tapi tet...\n",
              "Name: content, Length: 10000, dtype: object"
            ]
          },
          "execution_count": 15,
          "metadata": {},
          "output_type": "execute_result"
        }
      ],
      "source": [
        "# Menghapus dan Spasi\n",
        "main_df['content'] = main_df.loc[:, 'content'].str.strip()\n",
        "main_df['content']"
      ]
    },
    {
      "cell_type": "markdown",
      "metadata": {
        "id": "CgPfbTmgF0mV"
      },
      "source": [
        "### **Stopword Removal (Filtering)**\n",
        "Menghapus kata-kata yang umumnya tidak memberikan nilai tambah dalam analisis teks, seperti \"dan\", \"atau\", \"yang\", dll."
      ]
    },
    {
      "cell_type": "code",
      "execution_count": null,
      "metadata": {
        "id": "Psy-3YHfpqiF"
      },
      "outputs": [],
      "source": [
        "# !pip install Sastrawi"
      ]
    },
    {
      "cell_type": "code",
      "execution_count": null,
      "metadata": {
        "id": "EZQk6tlUovp1"
      },
      "outputs": [],
      "source": [
        "import nltk\n",
        "from Sastrawi.StopWordRemover.StopWordRemoverFactory import StopWordRemoverFactory\n",
        "from nltk.tokenize import word_tokenize"
      ]
    },
    {
      "cell_type": "code",
      "execution_count": null,
      "metadata": {
        "id": "igbX9I5Zpwxj"
      },
      "outputs": [],
      "source": [
        "factory = StopWordRemoverFactory()\n",
        "stopwords_sastrawi = factory.get_stop_words()"
      ]
    },
    {
      "cell_type": "code",
      "execution_count": null,
      "metadata": {
        "id": "jgVrVqihqECb"
      },
      "outputs": [],
      "source": [
        "def filteringStopwords(text):\n",
        "  tokens_kata = word_tokenize(text)\n",
        "  text = [word for word in tokens_kata if word not in stopwords_sastrawi]\n",
        "  sentence = ' '.join(word for word in text)\n",
        "  return sentence"
      ]
    },
    {
      "cell_type": "code",
      "execution_count": null,
      "metadata": {
        "colab": {
          "base_uri": "https://localhost:8080/"
        },
        "id": "fy-J_wpLrGm6",
        "outputId": "aaccbf15-e305-412f-f5f3-dcfa0db94a6c"
      },
      "outputs": [
        {
          "name": "stderr",
          "output_type": "stream",
          "text": [
            "<ipython-input-31-3c52153c72fa>:1: SettingWithCopyWarning: \n",
            "A value is trying to be set on a copy of a slice from a DataFrame.\n",
            "Try using .loc[row_indexer,col_indexer] = value instead\n",
            "\n",
            "See the caveats in the documentation: https://pandas.pydata.org/pandas-docs/stable/user_guide/indexing.html#returning-a-view-versus-a-copy\n",
            "  main_df['content'] = main_df['content'].apply(filteringStopwords)\n"
          ]
        },
        {
          "data": {
            "text/plain": [
              "0      Gamenya bagus soalnya level2 nya menantang min...\n",
              "1      Menurut game cukup bagus . Saya pas waktu masa...\n",
              "2      Game nya bagus , ngajarkan banyak taktik melaw...\n",
              "3      Mode Survival Endless nya perbaiki , keluar sn...\n",
              "4      Kalau pas main game , aplikasinya suka ngehang...\n",
              "                             ...                        \n",
              "195    udah topup pake duit malah coin ngga masuk , g...\n",
              "196    aku kalah kan dr.zombos.tapi zombie yeti ada.n...\n",
              "197    Gamenya makin seru Fitur terbaru , akhirnya ko...\n",
              "198    Tolong bantu ? 5 kali instal tdk mulai permain...\n",
              "199    Halo , Electronic Arts . Pas aku mau masuk fla...\n",
              "Name: content, Length: 200, dtype: object"
            ]
          },
          "execution_count": 31,
          "metadata": {},
          "output_type": "execute_result"
        }
      ],
      "source": [
        "main_df['content'] = main_df['content'].apply(filteringStopwords)\n",
        "main_df['content']"
      ]
    },
    {
      "cell_type": "markdown",
      "metadata": {
        "id": "c9QtORwDGCqN"
      },
      "source": [
        "### **Stemming**\n",
        "Proses menghapus imbuhan dari kata untuk mengembalikannya ke bentuk dasarnya. Misalnya, mengubah \"berlari\", \"berlarian\" menjadi \"lari\".\n"
      ]
    },
    {
      "cell_type": "code",
      "execution_count": null,
      "metadata": {
        "id": "RhLdcbg9vwSj"
      },
      "outputs": [],
      "source": [
        "# !pip install sastrawi\n",
        "from Sastrawi.Stemmer.StemmerFactory import StemmerFactory"
      ]
    },
    {
      "cell_type": "code",
      "execution_count": null,
      "metadata": {
        "id": "uCiDWlo2vj_V"
      },
      "outputs": [],
      "source": [
        "def stemmingText(text): # Mengurangi kata ke bentuk dasarnya yang menghilangkan imbuhan awalan dan akhiran atau ke akar kata\n",
        "    # Membuat objek stemmer\n",
        "    factory = StemmerFactory()\n",
        "    stemmer = factory.create_stemmer()\n",
        "\n",
        "    # Memecah teks menjadi daftar kata\n",
        "    words = text.split()\n",
        "\n",
        "    # Menerapkan stemming pada setiap kata dalam daftar\n",
        "    stemmed_words = [stemmer.stem(word) for word in words]\n",
        "\n",
        "    # Menggabungkan kata-kata yang telah distem\n",
        "    stemmed_text = ' '.join(stemmed_words)\n",
        "\n",
        "    return stemmed_text\n",
        "\n",
        "def toSentence(list_words): # Mengubah daftar kata menjadi kalimat\n",
        "    sentence = ' '.join(word for word in list_words)\n",
        "    return sentence"
      ]
    },
    {
      "cell_type": "code",
      "execution_count": null,
      "metadata": {
        "colab": {
          "base_uri": "https://localhost:8080/"
        },
        "id": "XwNetP24vkvu",
        "outputId": "7afed260-1f9f-42d7-c459-ac37a08b08cd"
      },
      "outputs": [
        {
          "name": "stderr",
          "output_type": "stream",
          "text": [
            "<ipython-input-34-01d85412c3bc>:1: SettingWithCopyWarning: \n",
            "A value is trying to be set on a copy of a slice from a DataFrame.\n",
            "Try using .loc[row_indexer,col_indexer] = value instead\n",
            "\n",
            "See the caveats in the documentation: https://pandas.pydata.org/pandas-docs/stable/user_guide/indexing.html#returning-a-view-versus-a-copy\n",
            "  main_df['steming'] = main_df['content'].apply(stemmingText)\n",
            "<ipython-input-34-01d85412c3bc>:2: SettingWithCopyWarning: \n",
            "A value is trying to be set on a copy of a slice from a DataFrame.\n",
            "Try using .loc[row_indexer,col_indexer] = value instead\n",
            "\n",
            "See the caveats in the documentation: https://pandas.pydata.org/pandas-docs/stable/user_guide/indexing.html#returning-a-view-versus-a-copy\n",
            "  main_df['content'] = main_df['steming'].apply(toSentence)\n"
          ]
        },
        {
          "data": {
            "text/plain": [
              "0      g a m e n y a   b a g u s   s o a l   l e v e ...\n",
              "1      t u r u t   g a m e   c u k u p   b a g u s   ...\n",
              "2      g a m e   n y a   b a g u s     n g a j a r k ...\n",
              "3      m o d e   s u r v i v a l   e n d l e s s   n ...\n",
              "4      k a l a u   p a s   m a i n   g a m e     a p ...\n",
              "                             ...                        \n",
              "195    u d a h   t o p u p   p a k e   d u i t   m a ...\n",
              "196    a k u   k a l a h   k a n   d r   z o m b o s ...\n",
              "197    g a m e n y a   m a k i n   s e r u   f i t u ...\n",
              "198    t o l o n g   b a n t u     5   k a l i   i n ...\n",
              "199    h a l o     e l e c t r o n i c   a r t s     ...\n",
              "Name: content, Length: 200, dtype: object"
            ]
          },
          "execution_count": 34,
          "metadata": {},
          "output_type": "execute_result"
        }
      ],
      "source": [
        "main_df['steming'] = main_df['content'].apply(stemmingText)\n",
        "main_df['content'] = main_df['steming'].apply(toSentence)\n",
        "main_df['content']"
      ]
    },
    {
      "cell_type": "markdown",
      "metadata": {
        "id": "bIjTgWO-F9w0"
      },
      "source": [
        "### **Tokenizing**\n",
        "Proses membagi teks menjadi bagian-bagian lebih kecil yang disebut token.\n"
      ]
    },
    {
      "cell_type": "code",
      "execution_count": null,
      "metadata": {
        "id": "Wua4IwBNtIyI"
      },
      "outputs": [],
      "source": [
        "from nltk.tokenize import word_tokenize\n",
        "# nltk.download('punkt')"
      ]
    },
    {
      "cell_type": "code",
      "execution_count": null,
      "metadata": {
        "id": "7pcMqiJbpNOy"
      },
      "outputs": [],
      "source": [
        "def tokenizingText(text): # Memecah atau membagi string, teks menjadi daftar token\n",
        "    text = word_tokenize(text)\n",
        "    return text"
      ]
    },
    {
      "cell_type": "code",
      "execution_count": null,
      "metadata": {
        "id": "ZRYyI9BrpO1L"
      },
      "outputs": [],
      "source": [
        "main_df['content'] = main_df['content'].apply(tokenizingText)\n",
        "main_df['content']"
      ]
    },
    {
      "cell_type": "markdown",
      "metadata": {
        "id": "LuXCGpIIGGlc"
      },
      "source": [
        "### **Lemmatization**\n",
        "Proses mengubah kata-kata ke bentuk dasarnya (lema) dengan mempertimbangkan konteks dan struktur bahasa. Misalnya, mengubah \"menyanyikan\" menjadi \"nyanyi\"."
      ]
    },
    {
      "cell_type": "code",
      "execution_count": null,
      "metadata": {
        "id": "AP5IqHVKyTw4"
      },
      "outputs": [],
      "source": []
    }
  ],
  "metadata": {
    "colab": {
      "provenance": []
    },
    "kernelspec": {
      "display_name": "Python 3",
      "name": "python3"
    },
    "language_info": {
      "name": "python"
    }
  },
  "nbformat": 4,
  "nbformat_minor": 0
}